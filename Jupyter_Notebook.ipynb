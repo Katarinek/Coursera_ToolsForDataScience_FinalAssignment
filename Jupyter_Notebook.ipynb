{
 "cells": [
  {
   "cell_type": "markdown",
   "metadata": {},
   "source": [
    "<center>\n",
    "    <img src=\"https://cf-courses-data.s3.us.cloud-object-storage.appdomain.cloud/IBMDeveloperSkillsNetwork-DS0105EN-SkillsNetwork/labs/Module2/images/SN_web_lightmode.png\" width=\"300\" alt=\"cognitiveclass.ai logo\">\n",
    "</center>\n"
   ]
  },
  {
   "cell_type": "markdown",
   "id": "da673956-34c5-4585-820d-f8a7e9dd7bd8",
   "metadata": {},
   "source": [
    "# Data Science Tools and Ecosystem\n"
   ]
  },
  {
   "cell_type": "markdown",
   "id": "37b67b44-892e-4bee-b8d0-27e9fd6723c8",
   "metadata": {},
   "source": [
    "In this notebook, Data Science Tools and Ecosystem are summarized.\n"
   ]
  },
  {
   "cell_type": "markdown",
   "id": "21101ef0-424d-490b-8237-4ae54af6b1c8",
   "metadata": {},
   "source": [
    "**Objectives:**\n",
    "- Create a markdown cell introducing arithmetic expression examples\n",
    "- Create a markdown cell with a table of Data Science tools\n",
    "- Create a markdown cell to list data science libraries\n",
    "- Create a code cell to multiply and add numbers\n",
    "  "
   ]
  },
  {
   "cell_type": "markdown",
   "id": "e1285724-9e1c-4be5-b925-14be865850ba",
   "metadata": {},
   "source": [
    "Some of the popular languages that Data Scientists use are:\n",
    "1. Python\n",
    "2. Java\n",
    "3. C/C++\n",
    "4. R\n",
    "   "
   ]
  },
  {
   "cell_type": "markdown",
   "id": "1d7c324f-6c17-45c1-a171-881b4700bb8c",
   "metadata": {},
   "source": [
    "Some of the commonly used libraries used by Data Scientists include:\n",
    "1. NumPy\n",
    "2. Matplotlib\n",
    "3. Pandas\n",
    "4. SciPy\n"
   ]
  },
  {
   "cell_type": "markdown",
   "id": "5804c1e5-058e-4b88-a3c1-072570834b89",
   "metadata": {},
   "source": [
    "| Data Science Tools |\n",
    "| :--- |\n",
    "| Jupyter Notebooks |\n",
    "| R Studio |\n",
    "| Visual Studio Code |\n"
   ]
  },
  {
   "cell_type": "markdown",
   "id": "6190b699-b55f-460b-a624-80d45538cace",
   "metadata": {},
   "source": [
    "### Below are a few examples of evaluating arithmetic expressions in Python\n"
   ]
  },
  {
   "cell_type": "code",
   "execution_count": 6,
   "id": "f49373f4-23c0-435d-84e1-cc4cc458a826",
   "metadata": {},
   "outputs": [
    {
     "data": {
      "text/plain": [
       "17"
      ]
     },
     "execution_count": 6,
     "metadata": {},
     "output_type": "execute_result"
    }
   ],
   "source": [
    "# This a simple arithmetic expression to mutiply then add integers\n",
    "(3*4)+5"
   ]
  },
  {
   "cell_type": "code",
   "execution_count": 8,
   "id": "028773b7-531b-4c4d-b931-10639f4b01df",
   "metadata": {},
   "outputs": [
    {
     "data": {
      "text/plain": [
       "3.3333333333333335"
      ]
     },
     "execution_count": 8,
     "metadata": {},
     "output_type": "execute_result"
    }
   ],
   "source": [
    "# This will convert 200 minutes to hours by diving by 60\n",
    "200 / 60"
   ]
  },
  {
   "cell_type": "markdown",
   "id": "4f24d015-51cb-494d-ad90-8f7ba6fe4632",
   "metadata": {},
   "source": [
    "## Author\n",
    "Katarína Gandžalová"
   ]
  },
  {
   "cell_type": "code",
   "execution_count": null,
   "id": "516ee4ae-11fe-4211-a815-39d03834cd29",
   "metadata": {},
   "outputs": [],
   "source": []
  }
 ],
 "metadata": {
  "kernelspec": {
   "display_name": "Python 3 (ipykernel)",
   "language": "python",
   "name": "python3"
  },
  "language_info": {
   "codemirror_mode": {
    "name": "ipython",
    "version": 3
   },
   "file_extension": ".py",
   "mimetype": "text/x-python",
   "name": "python",
   "nbconvert_exporter": "python",
   "pygments_lexer": "ipython3",
   "version": "3.11.7"
  }
 },
 "nbformat": 4,
 "nbformat_minor": 5
}
